{
 "cells": [
  {
   "cell_type": "code",
   "execution_count": 30,
   "id": "fba2da78-c779-407a-a4af-1ff7c14c0af2",
   "metadata": {},
   "outputs": [],
   "source": [
    "import pandas as pd"
   ]
  },
  {
   "cell_type": "code",
   "execution_count": 46,
   "id": "6415ba28-d54a-4280-b18b-657cdcdbaf2c",
   "metadata": {},
   "outputs": [],
   "source": [
    "orders = pd.read_excel('Sample - Superstore.xls')"
   ]
  },
  {
   "cell_type": "code",
   "execution_count": 39,
   "id": "b0658cc3-4ddf-4065-980a-212c2bfa3cc7",
   "metadata": {},
   "outputs": [],
   "source": [
    "#orders.columns = orders.columns.str.lower().str.replace(' ','_')"
   ]
  },
  {
   "cell_type": "code",
   "execution_count": 95,
   "id": "e2fedb44-94e5-4b3c-8716-d63c8c691fb8",
   "metadata": {},
   "outputs": [
    {
     "data": {
      "text/plain": [
       "Index(['Row ID', 'Order ID', 'Order Date', 'Ship Date', 'Ship Mode',\n",
       "       'Customer ID', 'Customer Name', 'Segment', 'Country', 'City', 'State',\n",
       "       'Postal Code', 'Region', 'Product ID', 'Category', 'Sub-Category',\n",
       "       'Product Name', 'Sales', 'Quantity', 'Discount', 'Profit'],\n",
       "      dtype='object')"
      ]
     },
     "execution_count": 95,
     "metadata": {},
     "output_type": "execute_result"
    }
   ],
   "source": [
    "orders.columns"
   ]
  },
  {
   "cell_type": "code",
   "execution_count": 41,
   "id": "85d45fd7-4419-45c7-93ec-11d10b78ea0f",
   "metadata": {},
   "outputs": [],
   "source": [
    "people = pd.read_excel('Sample - Superstore.xls', sheet_name=1)"
   ]
  },
  {
   "cell_type": "code",
   "execution_count": 24,
   "id": "8665ac6f-c45e-4cb8-9d42-7b05d4293255",
   "metadata": {},
   "outputs": [
    {
     "data": {
      "text/html": [
       "<div>\n",
       "<style scoped>\n",
       "    .dataframe tbody tr th:only-of-type {\n",
       "        vertical-align: middle;\n",
       "    }\n",
       "\n",
       "    .dataframe tbody tr th {\n",
       "        vertical-align: top;\n",
       "    }\n",
       "\n",
       "    .dataframe thead th {\n",
       "        text-align: right;\n",
       "    }\n",
       "</style>\n",
       "<table border=\"1\" class=\"dataframe\">\n",
       "  <thead>\n",
       "    <tr style=\"text-align: right;\">\n",
       "      <th></th>\n",
       "      <th>Person</th>\n",
       "      <th>Region</th>\n",
       "    </tr>\n",
       "  </thead>\n",
       "  <tbody>\n",
       "    <tr>\n",
       "      <th>0</th>\n",
       "      <td>Anna Andreadi</td>\n",
       "      <td>West</td>\n",
       "    </tr>\n",
       "    <tr>\n",
       "      <th>1</th>\n",
       "      <td>Chuck Magee</td>\n",
       "      <td>East</td>\n",
       "    </tr>\n",
       "    <tr>\n",
       "      <th>2</th>\n",
       "      <td>Kelly Williams</td>\n",
       "      <td>Central</td>\n",
       "    </tr>\n",
       "    <tr>\n",
       "      <th>3</th>\n",
       "      <td>Cassandra Brandow</td>\n",
       "      <td>South</td>\n",
       "    </tr>\n",
       "  </tbody>\n",
       "</table>\n",
       "</div>"
      ],
      "text/plain": [
       "              Person   Region\n",
       "0      Anna Andreadi     West\n",
       "1        Chuck Magee     East\n",
       "2     Kelly Williams  Central\n",
       "3  Cassandra Brandow    South"
      ]
     },
     "execution_count": 24,
     "metadata": {},
     "output_type": "execute_result"
    }
   ],
   "source": [
    "people"
   ]
  },
  {
   "cell_type": "code",
   "execution_count": 48,
   "id": "f9be8bed-6618-434a-828b-ef0e3b366384",
   "metadata": {},
   "outputs": [
    {
     "data": {
      "text/html": [
       "<div>\n",
       "<style scoped>\n",
       "    .dataframe tbody tr th:only-of-type {\n",
       "        vertical-align: middle;\n",
       "    }\n",
       "\n",
       "    .dataframe tbody tr th {\n",
       "        vertical-align: top;\n",
       "    }\n",
       "\n",
       "    .dataframe thead th {\n",
       "        text-align: right;\n",
       "    }\n",
       "</style>\n",
       "<table border=\"1\" class=\"dataframe\">\n",
       "  <thead>\n",
       "    <tr style=\"text-align: right;\">\n",
       "      <th></th>\n",
       "      <th>Order ID</th>\n",
       "      <th>Returned</th>\n",
       "    </tr>\n",
       "  </thead>\n",
       "  <tbody>\n",
       "    <tr>\n",
       "      <th>0</th>\n",
       "      <td>CA-2016-100762</td>\n",
       "      <td>Yes</td>\n",
       "    </tr>\n",
       "    <tr>\n",
       "      <th>1</th>\n",
       "      <td>CA-2016-100762</td>\n",
       "      <td>Yes</td>\n",
       "    </tr>\n",
       "    <tr>\n",
       "      <th>2</th>\n",
       "      <td>CA-2016-100762</td>\n",
       "      <td>Yes</td>\n",
       "    </tr>\n",
       "    <tr>\n",
       "      <th>3</th>\n",
       "      <td>CA-2016-100762</td>\n",
       "      <td>Yes</td>\n",
       "    </tr>\n",
       "    <tr>\n",
       "      <th>4</th>\n",
       "      <td>CA-2016-100867</td>\n",
       "      <td>Yes</td>\n",
       "    </tr>\n",
       "    <tr>\n",
       "      <th>...</th>\n",
       "      <td>...</td>\n",
       "      <td>...</td>\n",
       "    </tr>\n",
       "    <tr>\n",
       "      <th>795</th>\n",
       "      <td>US-2019-147886</td>\n",
       "      <td>Yes</td>\n",
       "    </tr>\n",
       "    <tr>\n",
       "      <th>796</th>\n",
       "      <td>US-2019-147998</td>\n",
       "      <td>Yes</td>\n",
       "    </tr>\n",
       "    <tr>\n",
       "      <th>797</th>\n",
       "      <td>US-2019-151127</td>\n",
       "      <td>Yes</td>\n",
       "    </tr>\n",
       "    <tr>\n",
       "      <th>798</th>\n",
       "      <td>US-2019-155999</td>\n",
       "      <td>Yes</td>\n",
       "    </tr>\n",
       "    <tr>\n",
       "      <th>799</th>\n",
       "      <td>US-2019-155999</td>\n",
       "      <td>Yes</td>\n",
       "    </tr>\n",
       "  </tbody>\n",
       "</table>\n",
       "<p>800 rows × 2 columns</p>\n",
       "</div>"
      ],
      "text/plain": [
       "           Order ID Returned\n",
       "0    CA-2016-100762      Yes\n",
       "1    CA-2016-100762      Yes\n",
       "2    CA-2016-100762      Yes\n",
       "3    CA-2016-100762      Yes\n",
       "4    CA-2016-100867      Yes\n",
       "..              ...      ...\n",
       "795  US-2019-147886      Yes\n",
       "796  US-2019-147998      Yes\n",
       "797  US-2019-151127      Yes\n",
       "798  US-2019-155999      Yes\n",
       "799  US-2019-155999      Yes\n",
       "\n",
       "[800 rows x 2 columns]"
      ]
     },
     "execution_count": 48,
     "metadata": {},
     "output_type": "execute_result"
    }
   ],
   "source": [
    "returns = pd.read_excel('Sample - Superstore.xls', sheet_name=2)\n",
    "returns = returns[['Order ID','Returned']]\n",
    "returns"
   ]
  },
  {
   "cell_type": "code",
   "execution_count": null,
   "id": "737fa9bc-ff16-441e-8763-5e742e056c45",
   "metadata": {},
   "outputs": [],
   "source": [
    "#найдем товар, который чаще всего возвращают"
   ]
  },
  {
   "cell_type": "code",
   "execution_count": 78,
   "id": "2c782e6c-e15e-40fc-8d2c-ed0dd36e5107",
   "metadata": {},
   "outputs": [
    {
     "data": {
      "text/plain": [
       "(12420, 22)"
      ]
     },
     "execution_count": 78,
     "metadata": {},
     "output_type": "execute_result"
    }
   ],
   "source": [
    "ord_and_ret = orders.merge(returns, how = 'left', on = 'Order ID')\n",
    "ord_and_ret.shape"
   ]
  },
  {
   "cell_type": "code",
   "execution_count": null,
   "id": "70946e0c-3ef6-43ea-9dd5-af81be69cc22",
   "metadata": {},
   "outputs": [],
   "source": [
    "ord_and_ret.Returned = ord_and_ret.Returned.apply(lambda x: 1 if x == 'Yes' else 0)"
   ]
  },
  {
   "cell_type": "code",
   "execution_count": 88,
   "id": "26eaf49a-44b4-4a79-89a4-5dd4cad19e22",
   "metadata": {},
   "outputs": [],
   "source": [
    "ret_rep = ord_and_ret.groupby('Product Name', as_index=False).agg({'Returned':['sum','count']})"
   ]
  },
  {
   "cell_type": "code",
   "execution_count": 89,
   "id": "5840202e-8833-4a82-8a42-9589333d74e6",
   "metadata": {},
   "outputs": [],
   "source": [
    "ret_rep['return_rate'] = ret_rep[('Returned','sum')] / ret_rep[('Returned','count')]"
   ]
  },
  {
   "cell_type": "code",
   "execution_count": 93,
   "id": "6b958a38-3353-464a-a266-52caee56e731",
   "metadata": {},
   "outputs": [
    {
     "data": {
      "text/html": [
       "<div>\n",
       "<style scoped>\n",
       "    .dataframe tbody tr th:only-of-type {\n",
       "        vertical-align: middle;\n",
       "    }\n",
       "\n",
       "    .dataframe tbody tr th {\n",
       "        vertical-align: top;\n",
       "    }\n",
       "\n",
       "    .dataframe thead tr th {\n",
       "        text-align: left;\n",
       "    }\n",
       "</style>\n",
       "<table border=\"1\" class=\"dataframe\">\n",
       "  <thead>\n",
       "    <tr>\n",
       "      <th></th>\n",
       "      <th>Product Name</th>\n",
       "      <th colspan=\"2\" halign=\"left\">Returned</th>\n",
       "      <th>return_rate</th>\n",
       "    </tr>\n",
       "    <tr>\n",
       "      <th></th>\n",
       "      <th></th>\n",
       "      <th>sum</th>\n",
       "      <th>count</th>\n",
       "      <th></th>\n",
       "    </tr>\n",
       "  </thead>\n",
       "  <tbody>\n",
       "    <tr>\n",
       "      <th>210</th>\n",
       "      <td>Avery 500</td>\n",
       "      <td>8</td>\n",
       "      <td>8</td>\n",
       "      <td>1.0</td>\n",
       "    </tr>\n",
       "    <tr>\n",
       "      <th>1838</th>\n",
       "      <td>Zebra GK420t Direct Thermal/Thermal Transfer P...</td>\n",
       "      <td>4</td>\n",
       "      <td>4</td>\n",
       "      <td>1.0</td>\n",
       "    </tr>\n",
       "    <tr>\n",
       "      <th>385</th>\n",
       "      <td>Bush Saratoga Collection 5-Shelf Bookcase, Han...</td>\n",
       "      <td>3</td>\n",
       "      <td>3</td>\n",
       "      <td>1.0</td>\n",
       "    </tr>\n",
       "    <tr>\n",
       "      <th>436</th>\n",
       "      <td>Cisco SPA 501G IP Phone</td>\n",
       "      <td>3</td>\n",
       "      <td>3</td>\n",
       "      <td>1.0</td>\n",
       "    </tr>\n",
       "    <tr>\n",
       "      <th>63</th>\n",
       "      <td>Acco Glide Clips</td>\n",
       "      <td>2</td>\n",
       "      <td>2</td>\n",
       "      <td>1.0</td>\n",
       "    </tr>\n",
       "    <tr>\n",
       "      <th>...</th>\n",
       "      <td>...</td>\n",
       "      <td>...</td>\n",
       "      <td>...</td>\n",
       "      <td>...</td>\n",
       "    </tr>\n",
       "    <tr>\n",
       "      <th>1842</th>\n",
       "      <td>Zipper Ring Binder Pockets</td>\n",
       "      <td>0</td>\n",
       "      <td>13</td>\n",
       "      <td>0.0</td>\n",
       "    </tr>\n",
       "    <tr>\n",
       "      <th>1845</th>\n",
       "      <td>iKross Bluetooth Portable Keyboard + Cell Phon...</td>\n",
       "      <td>0</td>\n",
       "      <td>5</td>\n",
       "      <td>0.0</td>\n",
       "    </tr>\n",
       "    <tr>\n",
       "      <th>1846</th>\n",
       "      <td>iOttie HLCRIO102 Car Mount</td>\n",
       "      <td>0</td>\n",
       "      <td>5</td>\n",
       "      <td>0.0</td>\n",
       "    </tr>\n",
       "    <tr>\n",
       "      <th>1847</th>\n",
       "      <td>iOttie XL Car Mount</td>\n",
       "      <td>0</td>\n",
       "      <td>2</td>\n",
       "      <td>0.0</td>\n",
       "    </tr>\n",
       "    <tr>\n",
       "      <th>1848</th>\n",
       "      <td>invisibleSHIELD by ZAGG Smudge-Free Screen Pro...</td>\n",
       "      <td>0</td>\n",
       "      <td>7</td>\n",
       "      <td>0.0</td>\n",
       "    </tr>\n",
       "  </tbody>\n",
       "</table>\n",
       "<p>1850 rows × 4 columns</p>\n",
       "</div>"
      ],
      "text/plain": [
       "                                           Product Name Returned        \\\n",
       "                                                             sum count   \n",
       "210                                           Avery 500        8     8   \n",
       "1838  Zebra GK420t Direct Thermal/Thermal Transfer P...        4     4   \n",
       "385   Bush Saratoga Collection 5-Shelf Bookcase, Han...        3     3   \n",
       "436                             Cisco SPA 501G IP Phone        3     3   \n",
       "63                                     Acco Glide Clips        2     2   \n",
       "...                                                 ...      ...   ...   \n",
       "1842                         Zipper Ring Binder Pockets        0    13   \n",
       "1845  iKross Bluetooth Portable Keyboard + Cell Phon...        0     5   \n",
       "1846                         iOttie HLCRIO102 Car Mount        0     5   \n",
       "1847                                iOttie XL Car Mount        0     2   \n",
       "1848  invisibleSHIELD by ZAGG Smudge-Free Screen Pro...        0     7   \n",
       "\n",
       "     return_rate  \n",
       "                  \n",
       "210          1.0  \n",
       "1838         1.0  \n",
       "385          1.0  \n",
       "436          1.0  \n",
       "63           1.0  \n",
       "...          ...  \n",
       "1842         0.0  \n",
       "1845         0.0  \n",
       "1846         0.0  \n",
       "1847         0.0  \n",
       "1848         0.0  \n",
       "\n",
       "[1850 rows x 4 columns]"
      ]
     },
     "execution_count": 93,
     "metadata": {},
     "output_type": "execute_result"
    }
   ],
   "source": [
    "ret_rep.sort_values(['return_rate',('Returned','sum')], ascending = False)"
   ]
  },
  {
   "cell_type": "code",
   "execution_count": null,
   "id": "af4c9380-2f4b-49ee-9039-529f07a234d3",
   "metadata": {},
   "outputs": [],
   "source": []
  },
  {
   "cell_type": "code",
   "execution_count": null,
   "id": "0b13cff5-7348-4124-964d-cfe6435b1ff7",
   "metadata": {},
   "outputs": [],
   "source": []
  }
 ],
 "metadata": {
  "kernelspec": {
   "display_name": "Python 3 (ipykernel)",
   "language": "python",
   "name": "python3"
  },
  "language_info": {
   "codemirror_mode": {
    "name": "ipython",
    "version": 3
   },
   "file_extension": ".py",
   "mimetype": "text/x-python",
   "name": "python",
   "nbconvert_exporter": "python",
   "pygments_lexer": "ipython3",
   "version": "3.9.7"
  }
 },
 "nbformat": 4,
 "nbformat_minor": 5
}
